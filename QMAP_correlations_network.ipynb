{
 "cells": [
  {
   "cell_type": "code",
   "execution_count": 1,
   "metadata": {},
   "outputs": [
    {
     "name": "stdout",
     "output_type": "stream",
     "text": [
      "Python version: 3.7.6 (default, Jan  8 2020, 20:23:39) [MSC v.1916 64 bit (AMD64)]\n",
      "matplotlib version: 3.1.3\n",
      "pandas version: 1.0.1\n",
      "seaborn version: 0.10.0\n",
      "numpy version: 1.18.1\n"
     ]
    }
   ],
   "source": [
    "import matplotlib\n",
    "%matplotlib inline\n",
    "matplotlib.rcParams['pdf.fonttype'] = 42\n",
    "matplotlib.rcParams['ps.fonttype'] = 42\n",
    "\n",
    "import matplotlib.pyplot as plt\n",
    "import pandas as pd\n",
    "import seaborn as sns\n",
    "import numpy as np\n",
    "import sys\n",
    "\n",
    "print(\"Python version: {}\".format(sys.version))\n",
    "print(\"matplotlib version: {}\".format(matplotlib.__version__))\n",
    "print(\"pandas version: {}\".format(pd.__version__))\n",
    "print(\"seaborn version: {}\".format(sns.__version__))\n",
    "print(\"numpy version: {}\".format(np.__version__))"
   ]
  },
  {
   "cell_type": "code",
   "execution_count": 2,
   "metadata": {},
   "outputs": [
    {
     "data": {
      "image/png": "[encoded data removed]",
      "text/plain": [
       "<Figure size 504x504 with 4 Axes>"
      ]
     },
     "metadata": {
      "needs_background": "light"
     },
     "output_type": "display_data"
    },
    {
     "data": {
      "text/plain": [
       "488"
      ]
     },
     "execution_count": 2,
     "metadata": {},
     "output_type": "execute_result"
    }
   ],
   "source": [
    "qmapp = pd.read_excel(\"TableS10_AUCDifferenceAndSignificance.xlsx\")\n",
    "\n",
    "new = qmapp['CellLine.Drug.sgRNA'].str.split('.sg', expand=True)\n",
    "qmapp['context'],qmapp['sgRNA'] = new[0], new[1]\n",
    "qmapp_raw = qmapp.copy()\n",
    "qmapp = qmapp[['sgRNA', 'context', 'sgRNA-sgNT']]\n",
    "\n",
    "qmapp = qmapp[(qmapp.sgRNA != 'SLC35F2')].dropna()\n",
    "qmapp = qmapp.pivot(index='context', columns='sgRNA', values = 'sgRNA-sgNT')\n",
    "\n",
    "qmapp_corr = qmapp.corr(method='spearman')#.rank(ascending=True)\n",
    "qmapp_corr.to_csv('qmapp_corr.csv')\n",
    "\n",
    "sns.clustermap(qmapp_corr, figsize=(7,7), metric='euclidean', method='ward', cmap='viridis', vmax=0.7, vmin=0.3\n",
    "              )\n",
    "plt.savefig('../figures/sonia_corr_matrix.pdf', bbox_inches='tight', transparent=True)\n",
    "plt.show();plt.close()\n",
    "\n",
    "len(qmapp)"
   ]
  },
  {
   "cell_type": "code",
   "execution_count": 3,
   "metadata": {},
   "outputs": [
    {
     "data": {
      "image/png": "[encoded data removed]",
      "text/plain": [
       "<Figure size 432x288 with 1 Axes>"
      ]
     },
     "metadata": {
      "needs_background": "light"
     },
     "output_type": "display_data"
    }
   ],
   "source": [
    "df = qmapp.corr(method='spearman')\n",
    "df = pd.DataFrame(df.where(np.triu(np.ones(df.shape)).astype(np.bool)))#.stack())\n",
    "df = df.reset_index().rename(columns={'sgRNA':'Source'}).set_index('Source').stack().reset_index()\n",
    "df = df[df.Source != df.sgRNA].set_index(\"Source\")\n",
    "sns.swarmplot(df[0].values)\n",
    "sns.despine(left=True)\n",
    "plt.savefig('../figures/sonia_swarm.pdf', bbox_inches='tight', transparent=True)\n",
    "plt.show(); plt.close()"
   ]
  },
  {
   "cell_type": "code",
   "execution_count": 4,
   "metadata": {},
   "outputs": [],
   "source": [
    "qmapp_raw['drug'] = qmapp_raw['CellLine.Drug.sgRNA'].str.split('.').str[1]\n",
    "\n",
    "subset = qmapp_raw[['sgRNA', 'drug', 'sgRNA-sgNT', 'p.value']].set_index('sgRNA')\n",
    "subset = subset[subset.index != 'SLC35F2']\n",
    "\n",
    "p = 0.05\n",
    "cutoff = 60\n",
    "\n",
    "both = subset[(subset['p.value'] < p) & (abs(subset['sgRNA-sgNT']) > cutoff)]\n",
    "both.to_csv('chemo_genetic_map_qmapp_{}_{}.tsv'.format(p, cutoff), sep='\\t')\n",
    "\n",
    "sl = subset[(subset['p.value'] < p) & (subset['sgRNA-sgNT'] < -cutoff)]\n",
    "sl.to_csv('chemo_genetic_map_qmapp_SL_{}_{}.tsv'.format(p, cutoff), sep='\\t')\n",
    "\n",
    "gof = subset[(subset['p.value'] < p) & (subset['sgRNA-sgNT'] > cutoff)]\n",
    "gof.to_csv('chemo_genetic_map_qmapp_GOF_{}_{}.tsv'.format(p, cutoff), sep='\\t')\n",
    "\n",
    "#print(subset.head())\n",
    "sl = subset[(subset['p.value'] < p/1) & (subset['sgRNA-sgNT'] < -cutoff)]"
   ]
  },
  {
   "cell_type": "code",
   "execution_count": null,
   "metadata": {},
   "outputs": [],
   "source": []
  },
  {
   "cell_type": "code",
   "execution_count": null,
   "metadata": {},
   "outputs": [],
   "source": []
  }
 ],
 "metadata": {
  "kernelspec": {
   "display_name": "Python 3",
   "language": "python",
   "name": "python3"
  },
  "language_info": {
   "codemirror_mode": {
    "name": "ipython",
    "version": 3
   },
   "file_extension": ".py",
   "mimetype": "text/x-python",
   "name": "python",
   "nbconvert_exporter": "python",
   "pygments_lexer": "ipython3",
   "version": "3.7.6"
  }
 },
 "nbformat": 4,
 "nbformat_minor": 4
}
